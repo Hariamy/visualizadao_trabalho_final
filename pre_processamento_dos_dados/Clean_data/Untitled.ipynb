{
 "cells": [
  {
   "cell_type": "code",
   "execution_count": 5,
   "metadata": {},
   "outputs": [],
   "source": [
    "import pandas as pd\n",
    "import matplotlib.pyplot as plt"
   ]
  },
  {
   "cell_type": "markdown",
   "metadata": {},
   "source": [
    "Gráfico comparando a média do tamanh pelo peso separado por animal\n",
    "talvez um scatterplot "
   ]
  },
  {
   "cell_type": "code",
   "execution_count": 2,
   "metadata": {},
   "outputs": [],
   "source": [
    "data = pd.read_csv(\"2019_10_04_arrasto1.csv\")"
   ]
  },
  {
   "cell_type": "code",
   "execution_count": 3,
   "metadata": {},
   "outputs": [
    {
     "data": {
      "text/html": [
       "<div>\n",
       "<style scoped>\n",
       "    .dataframe tbody tr th:only-of-type {\n",
       "        vertical-align: middle;\n",
       "    }\n",
       "\n",
       "    .dataframe tbody tr th {\n",
       "        vertical-align: top;\n",
       "    }\n",
       "\n",
       "    .dataframe thead th {\n",
       "        text-align: right;\n",
       "    }\n",
       "</style>\n",
       "<table border=\"1\" class=\"dataframe\">\n",
       "  <thead>\n",
       "    <tr style=\"text-align: right;\">\n",
       "      <th></th>\n",
       "      <th>ARRASTO</th>\n",
       "      <th>LOCAL</th>\n",
       "      <th>ESPECIE</th>\n",
       "      <th>N° DE INDIVIDUOS</th>\n",
       "      <th>CT (cm)</th>\n",
       "      <th>PESO (g)</th>\n",
       "      <th>PONTO</th>\n",
       "    </tr>\n",
       "  </thead>\n",
       "  <tbody>\n",
       "    <tr>\n",
       "      <th>0</th>\n",
       "      <td>1</td>\n",
       "      <td>Náutico</td>\n",
       "      <td>Anc.brev</td>\n",
       "      <td>1.0</td>\n",
       "      <td>9,6</td>\n",
       "      <td>5,35</td>\n",
       "      <td>1</td>\n",
       "    </tr>\n",
       "    <tr>\n",
       "      <th>1</th>\n",
       "      <td>1</td>\n",
       "      <td>Náutico</td>\n",
       "      <td>Anc.brev</td>\n",
       "      <td>2.0</td>\n",
       "      <td>9</td>\n",
       "      <td>4,39</td>\n",
       "      <td>1</td>\n",
       "    </tr>\n",
       "    <tr>\n",
       "      <th>2</th>\n",
       "      <td>1</td>\n",
       "      <td>Náutico</td>\n",
       "      <td>Anc.brev</td>\n",
       "      <td>3.0</td>\n",
       "      <td>8,7</td>\n",
       "      <td>3,92</td>\n",
       "      <td>1</td>\n",
       "    </tr>\n",
       "    <tr>\n",
       "      <th>3</th>\n",
       "      <td>1</td>\n",
       "      <td>Náutico</td>\n",
       "      <td>Anc.brev</td>\n",
       "      <td>4.0</td>\n",
       "      <td>9</td>\n",
       "      <td>4,39</td>\n",
       "      <td>1</td>\n",
       "    </tr>\n",
       "    <tr>\n",
       "      <th>4</th>\n",
       "      <td>1</td>\n",
       "      <td>Náutico</td>\n",
       "      <td>Anc.brev</td>\n",
       "      <td>5.0</td>\n",
       "      <td>9,5</td>\n",
       "      <td>5,42</td>\n",
       "      <td>1</td>\n",
       "    </tr>\n",
       "    <tr>\n",
       "      <th>...</th>\n",
       "      <td>...</td>\n",
       "      <td>...</td>\n",
       "      <td>...</td>\n",
       "      <td>...</td>\n",
       "      <td>...</td>\n",
       "      <td>...</td>\n",
       "      <td>...</td>\n",
       "    </tr>\n",
       "    <tr>\n",
       "      <th>795</th>\n",
       "      <td>3</td>\n",
       "      <td>Náutico</td>\n",
       "      <td>Ani.vir</td>\n",
       "      <td>2.0</td>\n",
       "      <td>11,0</td>\n",
       "      <td>28,28</td>\n",
       "      <td>3</td>\n",
       "    </tr>\n",
       "    <tr>\n",
       "      <th>796</th>\n",
       "      <td>3</td>\n",
       "      <td>Náutico</td>\n",
       "      <td>Ani.vir</td>\n",
       "      <td>3.0</td>\n",
       "      <td>11,9</td>\n",
       "      <td>34,74</td>\n",
       "      <td>3</td>\n",
       "    </tr>\n",
       "    <tr>\n",
       "      <th>797</th>\n",
       "      <td>3</td>\n",
       "      <td>Náutico</td>\n",
       "      <td>Ani.vir</td>\n",
       "      <td>4.0</td>\n",
       "      <td>12,3</td>\n",
       "      <td>37,73</td>\n",
       "      <td>3</td>\n",
       "    </tr>\n",
       "    <tr>\n",
       "      <th>798</th>\n",
       "      <td>3</td>\n",
       "      <td>Náutico</td>\n",
       "      <td>Ani.vir</td>\n",
       "      <td>5.0</td>\n",
       "      <td>14,8</td>\n",
       "      <td>80,50</td>\n",
       "      <td>3</td>\n",
       "    </tr>\n",
       "    <tr>\n",
       "      <th>799</th>\n",
       "      <td>3</td>\n",
       "      <td>Náutico</td>\n",
       "      <td>Ani.vir</td>\n",
       "      <td>6.0</td>\n",
       "      <td>12,8</td>\n",
       "      <td>41,45</td>\n",
       "      <td>3</td>\n",
       "    </tr>\n",
       "  </tbody>\n",
       "</table>\n",
       "<p>800 rows × 7 columns</p>\n",
       "</div>"
      ],
      "text/plain": [
       "     ARRASTO    LOCAL   ESPECIE  N° DE INDIVIDUOS CT (cm) PESO (g)  PONTO\n",
       "0          1  Náutico  Anc.brev               1.0     9,6     5,35      1\n",
       "1          1  Náutico  Anc.brev               2.0       9     4,39      1\n",
       "2          1  Náutico  Anc.brev               3.0     8,7     3,92      1\n",
       "3          1  Náutico  Anc.brev               4.0       9     4,39      1\n",
       "4          1  Náutico  Anc.brev               5.0     9,5     5,42      1\n",
       "..       ...      ...       ...               ...     ...      ...    ...\n",
       "795        3  Náutico   Ani.vir               2.0    11,0    28,28      3\n",
       "796        3  Náutico   Ani.vir               3.0    11,9    34,74      3\n",
       "797        3  Náutico   Ani.vir               4.0    12,3    37,73      3\n",
       "798        3  Náutico   Ani.vir               5.0    14,8    80,50      3\n",
       "799        3  Náutico   Ani.vir               6.0    12,8    41,45      3\n",
       "\n",
       "[800 rows x 7 columns]"
      ]
     },
     "execution_count": 3,
     "metadata": {},
     "output_type": "execute_result"
    }
   ],
   "source": [
    "data"
   ]
  },
  {
   "cell_type": "code",
   "execution_count": 6,
   "metadata": {},
   "outputs": [
    {
     "ename": "SyntaxError",
     "evalue": "invalid syntax (<ipython-input-6-7f8ea41e05b0>, line 1)",
     "output_type": "error",
     "traceback": [
      "\u001b[1;36m  File \u001b[1;32m\"<ipython-input-6-7f8ea41e05b0>\"\u001b[1;36m, line \u001b[1;32m1\u001b[0m\n\u001b[1;33m    .a =a\u001b[0m\n\u001b[1;37m    ^\u001b[0m\n\u001b[1;31mSyntaxError\u001b[0m\u001b[1;31m:\u001b[0m invalid syntax\n"
     ]
    }
   ],
   "source": [
    "# creating the dataset\n",
    "data = {'C':20, 'C++':15, 'Java':30,\n",
    "        'Python':35}\n",
    "courses = list(data.keys())\n",
    "values = list(data.values())\n",
    "  \n",
    "fig = plt.figure(figsize = (10, 5))\n",
    " \n",
    "# creating the bar plot\n",
    "plt.bar(courses, values, color ='maroon',\n",
    "        width = 0.4)\n",
    " \n",
    "plt.xlabel(\"Courses offered\")\n",
    "plt.ylabel(\"No. of students enrolled\")\n",
    "plt.title(\"Students enrolled in different courses\")\n",
    "plt.show()"
   ]
  },
  {
   "cell_type": "code",
   "execution_count": 10,
   "metadata": {},
   "outputs": [
    {
     "data": {
      "text/plain": [
       "1100000.1099320103"
      ]
     },
     "execution_count": 10,
     "metadata": {},
     "output_type": "execute_result"
    }
   ],
   "source": [
    "a = 0.11\n",
    "for i in range(10000000):\n",
    "    a += 0.11\n",
    "a"
   ]
  },
  {
   "cell_type": "code",
   "execution_count": 11,
   "metadata": {},
   "outputs": [],
   "source": [
    "c = 1, 2"
   ]
  },
  {
   "cell_type": "code",
   "execution_count": 12,
   "metadata": {},
   "outputs": [
    {
     "ename": "TypeError",
     "evalue": "unsupported operand type(s) for /: 'tuple' and 'int'",
     "output_type": "error",
     "traceback": [
      "\u001b[1;31m---------------------------------------------------------------------------\u001b[0m",
      "\u001b[1;31mTypeError\u001b[0m                                 Traceback (most recent call last)",
      "\u001b[1;32m<ipython-input-12-5209e541c6bf>\u001b[0m in \u001b[0;36m<module>\u001b[1;34m\u001b[0m\n\u001b[1;32m----> 1\u001b[1;33m \u001b[0mc\u001b[0m\u001b[1;33m/\u001b[0m\u001b[1;36m2\u001b[0m\u001b[1;33m\u001b[0m\u001b[1;33m\u001b[0m\u001b[0m\n\u001b[0m",
      "\u001b[1;31mTypeError\u001b[0m: unsupported operand type(s) for /: 'tuple' and 'int'"
     ]
    }
   ],
   "source": [
    "c/2"
   ]
  },
  {
   "cell_type": "code",
   "execution_count": 15,
   "metadata": {},
   "outputs": [
    {
     "name": "stdout",
     "output_type": "stream",
     "text": [
      "Digita a nome: 57\n",
      "Digita o idade: 1.69\n",
      "O IMC é 19.96\n"
     ]
    }
   ],
   "source": [
    "peso = float(input(\"Digita a nome: \"))\n",
    "altura = float(input(\"Digita o idade: \"))\n",
    "imc = peso / altura**2\n",
    "print(f\"O IMC é {imc:.2f}\")"
   ]
  },
  {
   "cell_type": "code",
   "execution_count": null,
   "metadata": {},
   "outputs": [],
   "source": []
  }
 ],
 "metadata": {
  "kernelspec": {
   "display_name": "Python 3",
   "language": "python",
   "name": "python3"
  },
  "language_info": {
   "codemirror_mode": {
    "name": "ipython",
    "version": 3
   },
   "file_extension": ".py",
   "mimetype": "text/x-python",
   "name": "python",
   "nbconvert_exporter": "python",
   "pygments_lexer": "ipython3",
   "version": "3.7.6"
  }
 },
 "nbformat": 4,
 "nbformat_minor": 4
}
